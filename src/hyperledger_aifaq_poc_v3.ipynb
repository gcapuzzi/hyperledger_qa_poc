{
  "cells": [
    {
      "cell_type": "markdown",
      "source": [
        "**Project setup**"
      ],
      "metadata": {
        "id": "_DVY-5lzk2sR"
      }
    },
    {
      "cell_type": "code",
      "execution_count": null,
      "metadata": {
        "id": "LB2Q9pgs3y2k"
      },
      "outputs": [],
      "source": [
        "# Install required packages\n",
        "\n",
        "!pip install transformers peft accelerate bitsandbytes safetensors sentencepiece chromadb langchain sentence-transformers gradio bs4"
      ]
    },
    {
      "cell_type": "code",
      "execution_count": null,
      "metadata": {
        "id": "b08wbHdz3y2m"
      },
      "outputs": [],
      "source": [
        "# Import required libraries\n",
        "\n",
        "import os\n",
        "import locale\n",
        "import subprocess\n",
        "import torch\n",
        "from transformers import (\n",
        "    AutoModelForCausalLM,\n",
        "    AutoTokenizer,\n",
        "    BitsAndBytesConfig,\n",
        "    pipeline,\n",
        ")\n",
        "import gradio as gr\n",
        "from langchain.llms import HuggingFacePipeline\n",
        "from langchain.text_splitter import RecursiveCharacterTextSplitter\n",
        "from langchain.embeddings import HuggingFaceEmbeddings\n",
        "from langchain.vectorstores import Chroma\n",
        "from langchain.chains import ConversationalRetrievalChain\n",
        "from langchain.memory import ConversationBufferMemory\n",
        "from langchain_text_splitters import MarkdownHeaderTextSplitter\n",
        "\n",
        "# LCEL related imports\n",
        "# from langchain.schema.runnable import RunnablePassthrough\n",
        "# from langchain.schema.output_parser import StrOutputParser\n",
        "# from langchain.prompts import ChatPromptTemplate\n",
        "\n",
        "# fixing unicode error in google colab\n",
        "locale.getpreferredencoding = lambda: \"UTF-8\""
      ]
    },
    {
      "cell_type": "markdown",
      "source": [
        "**Functions**"
      ],
      "metadata": {
        "id": "EyIfsXiwmgKw"
      }
    },
    {
      "cell_type": "code",
      "execution_count": null,
      "metadata": {
        "id": "kKkVcgAv8frU"
      },
      "outputs": [],
      "source": [
        "# Function to load a 4-bit quantized model\n",
        "def load_quantized_model(model_name: str):\n",
        "    bnb_config = BitsAndBytesConfig(\n",
        "        load_in_4bit=True,\n",
        "        bnb_4bit_use_double_quant=True,\n",
        "        bnb_4bit_quant_type=\"nf4\",\n",
        "        bnb_4bit_compute_dtype=torch.bfloat16,\n",
        "    )\n",
        "    model = AutoModelForCausalLM.from_pretrained(\n",
        "        model_name, torch_dtype=torch.bfloat16, quantization_config=bnb_config\n",
        "    )\n",
        "    return model\n",
        "\n",
        "\n",
        "# Function to initialize tokenizer\n",
        "def initialize_tokenizer(model_name: str):\n",
        "    tokenizer = AutoTokenizer.from_pretrained(model_name)\n",
        "    tokenizer.bos_token_id = 1\n",
        "    return tokenizer\n",
        "\n",
        "\n",
        "# Function to clone a repository\n",
        "def clone_repo(repo_name, target_dir):\n",
        "    repo_url = f\"https://github.com/{repo_name}.git\"\n",
        "    try:\n",
        "        subprocess.check_output([\"git\", \"clone\", repo_url, target_dir])\n",
        "        print(f\"Success! Repository {repo_name} cloned into {target_dir}\")\n",
        "        return True\n",
        "    except subprocess.CalledProcessError as e:\n",
        "        print(f\"Fail... {str(e)}\")\n",
        "        return False\n",
        "\n",
        "\n",
        "# Function to get a list of files with specific extensions\n",
        "def get_file_list(target_dir, ext_whitelist):\n",
        "    filtered_files = []\n",
        "    for root, dirs, files in os.walk(target_dir):\n",
        "        for file in files:\n",
        "            if any(file.endswith(ext) for ext in ext_whitelist):\n",
        "                filtered_files.append(os.path.join(root, file))\n",
        "    return filtered_files\n",
        "\n",
        "\n",
        "# Function to create documents from files\n",
        "def create_documents(files):\n",
        "    headers_to_split_on = [(\"#\", \"Header 1\"), (\"##\", \"Header 2\"), (\"###\", \"Header 3\")]\n",
        "    markdown_splitter = MarkdownHeaderTextSplitter(\n",
        "        headers_to_split_on=headers_to_split_on, strip_headers=False\n",
        "    )\n",
        "    text_splitter = RecursiveCharacterTextSplitter(chunk_size=6000, chunk_overlap=600)\n",
        "    documents = []\n",
        "    for f in files:\n",
        "        with open(f, \"r\", encoding=\"utf-8\") as file:\n",
        "            text = file.read()\n",
        "        md_splits = markdown_splitter.split_text(text)\n",
        "        docs = text_splitter.split_documents(md_splits)\n",
        "        documents.extend(docs)\n",
        "    return documents\n",
        "\n",
        "\n",
        "# Function to create a retriever\n",
        "def create_retriever(documents):\n",
        "    embeddings = HuggingFaceEmbeddings(\n",
        "        model_name=\"sentence-transformers/all-mpnet-base-v2\",\n",
        "        model_kwargs={\"device\": \"cuda\"},\n",
        "    )\n",
        "    vectordb = Chroma.from_documents(\n",
        "        documents=documents, embedding=embeddings, persist_directory=\"chroma_db\"\n",
        "    )\n",
        "    return vectordb.as_retriever()\n",
        "\n",
        "\n",
        "# Define the conversation function\n",
        "def create_conversation(query: str, chat_history: list) -> tuple:\n",
        "    try:\n",
        "        memory = ConversationBufferMemory(\n",
        "            memory_key=\"chat_history\", return_messages=False\n",
        "        )\n",
        "        qa_chain = ConversationalRetrievalChain.from_llm(\n",
        "            llm=llm, retriever=retriever, memory=memory, get_chat_history=lambda h: h\n",
        "        )\n",
        "        result = qa_chain({\"question\": query, \"chat_history\": chat_history})\n",
        "        chat_history.append((query, result[\"answer\"]))\n",
        "        return \"\", chat_history\n",
        "    except Exception as e:\n",
        "        chat_history.append((query, str(e)))\n",
        "        return \"\", chat_history"
      ]
    },
    {
      "cell_type": "markdown",
      "source": [
        "**Setup model**"
      ],
      "metadata": {
        "id": "-SNm-mr5mrNF"
      }
    },
    {
      "cell_type": "code",
      "execution_count": null,
      "metadata": {
        "id": "EQP-tdh88qiv"
      },
      "outputs": [],
      "source": [
        "# Load model and initialize tokenizer\n",
        "model_name = \"anakin87/zephyr-7b-alpha-sharded\"\n",
        "model = load_quantized_model(model_name)\n",
        "tokenizer = initialize_tokenizer(model_name)\n",
        "\n",
        "# Configure pipeline\n",
        "my_pipeline = pipeline(\n",
        "    \"text-generation\",\n",
        "    model=model,\n",
        "    tokenizer=tokenizer,\n",
        "    use_cache=True,\n",
        "    device_map=\"auto\",\n",
        "    max_length=2048,\n",
        "    do_sample=True,\n",
        "    top_k=5,\n",
        "    num_return_sequences=1,\n",
        "    eos_token_id=tokenizer.eos_token_id,\n",
        "    pad_token_id=tokenizer.eos_token_id,\n",
        ")\n",
        "\n",
        "# Specify the LLM and prepare documents and retriever\n",
        "llm = HuggingFacePipeline(pipeline=my_pipeline)"
      ]
    },
    {
      "cell_type": "markdown",
      "source": [
        "**Set target repository and file extensions**"
      ],
      "metadata": {
        "id": "grIuRzTirKNZ"
      }
    },
    {
      "cell_type": "code",
      "source": [
        "repo_name = \"hyperledger/iroha\"\n",
        "ext_whitelist = [\".md\", \".rst\"]"
      ],
      "metadata": {
        "id": "ZU1s04jskoAL"
      },
      "execution_count": null,
      "outputs": []
    },
    {
      "cell_type": "markdown",
      "source": [
        "**Clone repo, filter files, create documents and retreiver**"
      ],
      "metadata": {
        "id": "g-IIQKm_rvuW"
      }
    },
    {
      "cell_type": "code",
      "execution_count": null,
      "metadata": {
        "id": "iRrUu0oMF2QX"
      },
      "outputs": [],
      "source": [
        "target_dir = repo_name.split(\"/\")[-1]\n",
        "\n",
        "clone_repo(repo_name, target_dir)\n",
        "files = get_file_list(target_dir, ext_whitelist)\n",
        "documents = create_documents(files)\n",
        "retriever = create_retriever(documents)"
      ]
    },
    {
      "cell_type": "code",
      "source": [
        "# Langchain LCEL implementation - but no memory!\n",
        "\n",
        "# template = \"\"\"Answer the question based only on the following context:\n",
        "# {context}\n",
        "\n",
        "# Question: {question}\n",
        "# \"\"\"\n",
        "\n",
        "# prompt = ChatPromptTemplate.from_template(template)\n",
        "# chain = (\n",
        "#     {\"context\": retriever, \"question\": RunnablePassthrough()}\n",
        "#     | prompt\n",
        "#     | llm\n",
        "#     | StrOutputParser()\n",
        "# )\n",
        "# chain.invoke(\"How do I restart an Iroha node?\")"
      ],
      "metadata": {
        "id": "XyVVkATEXCFD"
      },
      "execution_count": null,
      "outputs": []
    },
    {
      "cell_type": "markdown",
      "source": [
        "**Run Gradio**"
      ],
      "metadata": {
        "id": "AGmPta4Wr8bY"
      }
    },
    {
      "cell_type": "code",
      "execution_count": null,
      "metadata": {
        "id": "dETfjAAAjuaU",
        "colab": {
          "base_uri": "https://localhost:8080/",
          "height": 648
        },
        "outputId": "c630b943-de52-409a-d553-14a2fa55343f"
      },
      "outputs": [
        {
          "output_type": "stream",
          "name": "stdout",
          "text": [
            "Setting queue=True in a Colab notebook requires sharing enabled. Setting `share=True` (you can turn this off by setting `share=False` in `launch()` explicitly).\n",
            "\n",
            "Colab notebook detected. To show errors in colab notebook, set debug=True in launch()\n",
            "Running on public URL: https://4d8ff9ba0ef98c318a.gradio.live\n",
            "\n",
            "This share link expires in 72 hours. For free permanent hosting and GPU upgrades, run `gradio deploy` from Terminal to deploy to Spaces (https://huggingface.co/spaces)\n"
          ]
        },
        {
          "output_type": "display_data",
          "data": {
            "text/plain": [
              "<IPython.core.display.HTML object>"
            ],
            "text/html": [
              "<div><iframe src=\"https://4d8ff9ba0ef98c318a.gradio.live\" width=\"100%\" height=\"500\" allow=\"autoplay; camera; microphone; clipboard-read; clipboard-write;\" frameborder=\"0\" allowfullscreen></iframe></div>"
            ]
          },
          "metadata": {}
        },
        {
          "output_type": "execute_result",
          "data": {
            "text/plain": []
          },
          "metadata": {},
          "execution_count": 10
        }
      ],
      "source": [
        "# Build Gradio UI\n",
        "with gr.Blocks() as demo:\n",
        "    chatbot = gr.Chatbot(label='Chat with your data (Zephyr 7B Alpha)')\n",
        "    msg = gr.Textbox()\n",
        "    clear = gr.ClearButton([msg, chatbot])\n",
        "    msg.submit(create_conversation, [msg, chatbot], [msg, chatbot])\n",
        "\n",
        "demo.launch(share=True)"
      ]
    },
    {
      "cell_type": "code",
      "source": [
        "!pigar generate"
      ],
      "metadata": {
        "colab": {
          "base_uri": "https://localhost:8080/"
        },
        "id": "WcEI0mU_71sh",
        "outputId": "d2dd1138-0ca8-49c0-ea3d-500212cea144"
      },
      "execution_count": null,
      "outputs": [
        {
          "output_type": "stream",
          "name": "stdout",
          "text": [
            "\u001b[34m18:48:51\u001b[39m \u001b[31mdistribution \"blinker\" may be not editable: NotADirectoryError(20, 'Not a directory')\u001b[39m\n",
            "\u001b[31mThe following module(s) are not found yet:\n",
            "\u001b[39m  \u001b[33mblock_pb2\u001b[39m referenced from:\n",
            "    /content/iroha/utils/genesis_parser.py: 6\n",
            "  \u001b[33mprimitive_pb2\u001b[39m referenced from:\n",
            "    /content/iroha/utils/genesis_parser.py: 7\n",
            "  \u001b[33mpytablewriter\u001b[39m referenced from:\n",
            "    /content/iroha/utils/genesis_parser.py: 11\n",
            "  \u001b[33miroha\u001b[39m referenced from:\n",
            "    /content/iroha/example/burrow_integration/account.py: 3,4\n",
            "    /content/iroha/example/burrow_integration/asset.py: 3,4\n",
            "    /content/iroha/example/burrow_integration/compare_set.py: 3,4,5\n",
            "    /content/iroha/example/burrow_integration/detail.py: 4,5,6,9\n",
            "    /content/iroha/example/burrow_integration/get_transactions.py: 3,4,5,6\n",
            "    /content/iroha/example/burrow_integration/integration_example.py: 3,4\n",
            "    /content/iroha/example/burrow_integration/integration_helpers.py: 3,4\n",
            "    /content/iroha/example/burrow_integration/permissions.py: 3,4,5\n",
            "    /content/iroha/example/burrow_integration/query.py: 3,4\n",
            "    /content/iroha/example/burrow_integration/role.py: 3,4\n",
            "    /content/iroha/example/burrow_integration/setupAccount.py: 3\n",
            "    /content/iroha/example/burrow_integration/signatory.py: 3,4\n",
            "    /content/iroha/example/python/permissions/can_add_asset_qty.py: 6,7\n",
            "    /content/iroha/example/python/permissions/can_add_my_signatory.py: 6,7\n",
            "    /content/iroha/example/python/permissions/can_add_peer.py: 6,7\n",
            "    /content/iroha/example/python/permissions/can_add_signatory.py: 6,7\n",
            "    /content/iroha/example/python/permissions/can_append_role.py: 6,7\n",
            "    /content/iroha/example/python/permissions/can_create_account.py: 6,7\n",
            "    /content/iroha/example/python/permissions/can_create_asset.py: 6,7\n",
            "    /content/iroha/example/python/permissions/can_create_domain.py: 6,7\n",
            "    /content/iroha/example/python/permissions/can_create_role.py: 6,7\n",
            "    /content/iroha/example/python/permissions/can_detach_role.py: 6,7\n",
            "    /content/iroha/example/python/permissions/can_get_all_acc_ast.py: 6,7\n",
            "    /content/iroha/example/python/permissions/can_get_all_acc_ast_txs.py: 6,7\n",
            "    /content/iroha/example/python/permissions/can_get_all_acc_detail.py: 6,7\n",
            "    /content/iroha/example/python/permissions/can_get_all_acc_txs.py: 6,7\n",
            "    /content/iroha/example/python/permissions/can_get_all_accounts.py: 6,7\n",
            "    /content/iroha/example/python/permissions/can_get_all_signatories.py: 6,7\n",
            "    /content/iroha/example/python/permissions/can_get_all_txs.py: 6,7\n",
            "    /content/iroha/example/python/permissions/can_get_domain_acc_ast.py: 6,7\n",
            "    /content/iroha/example/python/permissions/can_get_domain_acc_ast_txs.py: 6,7\n",
            "    /content/iroha/example/python/permissions/can_get_domain_acc_detail.py: 6,7\n",
            "    /content/iroha/example/python/permissions/can_get_domain_acc_txs.py: 6,7\n",
            "    /content/iroha/example/python/permissions/can_get_domain_accounts.py: 6,7\n",
            "    /content/iroha/example/python/permissions/can_get_domain_signatories.py: 6,7\n",
            "    /content/iroha/example/python/permissions/can_get_my_acc_ast.py: 6,7\n",
            "    /content/iroha/example/python/permissions/can_get_my_acc_ast_txs.py: 6,7\n",
            "    /content/iroha/example/python/permissions/can_get_my_acc_detail.py: 6,7\n",
            "    /content/iroha/example/python/permissions/can_get_my_acc_txs.py: 6,7\n",
            "    /content/iroha/example/python/permissions/can_get_my_account.py: 6,7\n",
            "    /content/iroha/example/python/permissions/can_get_my_signatories.py: 6,7\n",
            "    /content/iroha/example/python/permissions/can_get_my_txs.py: 6,7\n",
            "    /content/iroha/example/python/permissions/can_get_peers.py: 6,7\n",
            "    /content/iroha/example/python/permissions/can_get_roles.py: 6,7\n",
            "    /content/iroha/example/python/permissions/can_grant_can_add_my_signatory.py: 6,7\n",
            "    /content/iroha/example/python/permissions/can_grant_can_remove_my_signatory.py: 6,7\n",
            "    /content/iroha/example/python/permissions/can_grant_can_set_my_account_detail.py: 6,7\n",
            "    /content/iroha/example/python/permissions/can_grant_can_set_my_quorum.py: 6,7\n",
            "    /content/iroha/example/python/permissions/can_grant_can_transfer_my_assets.py: 6,7\n",
            "    /content/iroha/example/python/permissions/can_read_assets.py: 6,7\n",
            "    /content/iroha/example/python/permissions/can_receive.py: 6,7\n",
            "    /content/iroha/example/python/permissions/can_remove_my_signatory.py: 6,7\n",
            "    /content/iroha/example/python/permissions/can_remove_peer.py: 6,7\n",
            "    /content/iroha/example/python/permissions/can_remove_signatory.py: 6,7\n",
            "    /content/iroha/example/python/permissions/can_set_detail.py: 6,7\n",
            "    /content/iroha/example/python/permissions/can_set_my_account_detail.py: 6,7\n",
            "    /content/iroha/example/python/permissions/can_set_my_quorum.py: 6,7\n",
            "    /content/iroha/example/python/permissions/can_set_quorum.py: 6,7\n",
            "    /content/iroha/example/python/permissions/can_subtract_asset_qty.py: 6,7\n",
            "    /content/iroha/example/python/permissions/can_transfer_my_assets.py: 6,7\n",
            "    /content/iroha/example/python/permissions/commons.py: 6,7\n",
            "    /content/iroha/test/load/locustfile-performance.py: 11,12,13\n",
            "    /content/iroha/test/load/locustfile.py: 5,6\n",
            "  \u001b[33mCrypto\u001b[39m referenced from:\n",
            "    /content/iroha/example/burrow_integration/account.py: 6\n",
            "    /content/iroha/example/burrow_integration/asset.py: 6\n",
            "    /content/iroha/example/burrow_integration/compare_set.py: 7\n",
            "    /content/iroha/example/burrow_integration/detail.py: 1\n",
            "    /content/iroha/example/burrow_integration/get_transactions.py: 8\n",
            "    /content/iroha/example/burrow_integration/integration_example.py: 6\n",
            "    /content/iroha/example/burrow_integration/integration_helpers.py: 6\n",
            "    /content/iroha/example/burrow_integration/permissions.py: 7\n",
            "    /content/iroha/example/burrow_integration/query.py: 6\n",
            "    /content/iroha/example/burrow_integration/role.py: 6\n",
            "    /content/iroha/example/burrow_integration/signatory.py: 6\n",
            "  \u001b[33mintegration_helpers\u001b[39m referenced from:\n",
            "    /content/iroha/example/burrow_integration/account.py: 7\n",
            "    /content/iroha/example/burrow_integration/asset.py: 7\n",
            "    /content/iroha/example/burrow_integration/compare_set.py: 8\n",
            "    /content/iroha/example/burrow_integration/detail.py: 7\n",
            "    /content/iroha/example/burrow_integration/get_transactions.py: 9\n",
            "    /content/iroha/example/burrow_integration/integration_example.py: 7\n",
            "    /content/iroha/example/burrow_integration/permissions.py: 8\n",
            "    /content/iroha/example/burrow_integration/query.py: 7\n",
            "    /content/iroha/example/burrow_integration/role.py: 7\n",
            "    /content/iroha/example/burrow_integration/setupAccount.py: 5\n",
            "    /content/iroha/example/burrow_integration/signatory.py: 7\n",
            "  \u001b[33mcommons\u001b[39m referenced from:\n",
            "    /content/iroha/example/python/permissions/can_add_asset_qty.py: 8\n",
            "    /content/iroha/example/python/permissions/can_add_my_signatory.py: 8\n",
            "    /content/iroha/example/python/permissions/can_add_peer.py: 8\n",
            "    /content/iroha/example/python/permissions/can_add_signatory.py: 8\n",
            "    /content/iroha/example/python/permissions/can_append_role.py: 8\n",
            "    /content/iroha/example/python/permissions/can_create_account.py: 8\n",
            "    /content/iroha/example/python/permissions/can_create_asset.py: 8\n",
            "    /content/iroha/example/python/permissions/can_create_domain.py: 8\n",
            "    /content/iroha/example/python/permissions/can_create_role.py: 8\n",
            "    /content/iroha/example/python/permissions/can_detach_role.py: 8\n",
            "    /content/iroha/example/python/permissions/can_get_all_acc_ast.py: 8\n",
            "    /content/iroha/example/python/permissions/can_get_all_acc_ast_txs.py: 8\n",
            "    /content/iroha/example/python/permissions/can_get_all_acc_detail.py: 8\n",
            "    /content/iroha/example/python/permissions/can_get_all_acc_txs.py: 8\n",
            "    /content/iroha/example/python/permissions/can_get_all_accounts.py: 8\n",
            "    /content/iroha/example/python/permissions/can_get_all_signatories.py: 8\n",
            "    /content/iroha/example/python/permissions/can_get_all_txs.py: 8\n",
            "    /content/iroha/example/python/permissions/can_get_domain_acc_ast.py: 8\n",
            "    /content/iroha/example/python/permissions/can_get_domain_acc_ast_txs.py: 8\n",
            "    /content/iroha/example/python/permissions/can_get_domain_acc_detail.py: 8\n",
            "    /content/iroha/example/python/permissions/can_get_domain_acc_txs.py: 8\n",
            "    /content/iroha/example/python/permissions/can_get_domain_accounts.py: 8\n",
            "    /content/iroha/example/python/permissions/can_get_domain_signatories.py: 8\n",
            "    /content/iroha/example/python/permissions/can_get_my_acc_ast.py: 8\n",
            "    /content/iroha/example/python/permissions/can_get_my_acc_ast_txs.py: 8\n",
            "    /content/iroha/example/python/permissions/can_get_my_acc_detail.py: 8\n",
            "    /content/iroha/example/python/permissions/can_get_my_acc_txs.py: 8\n",
            "    /content/iroha/example/python/permissions/can_get_my_account.py: 8\n",
            "    /content/iroha/example/python/permissions/can_get_my_signatories.py: 8\n",
            "    /content/iroha/example/python/permissions/can_get_my_txs.py: 8\n",
            "    /content/iroha/example/python/permissions/can_get_peers.py: 8\n",
            "    /content/iroha/example/python/permissions/can_get_roles.py: 8\n",
            "    /content/iroha/example/python/permissions/can_grant_can_add_my_signatory.py: 8\n",
            "    /content/iroha/example/python/permissions/can_grant_can_remove_my_signatory.py: 8\n",
            "    /content/iroha/example/python/permissions/can_grant_can_set_my_account_detail.py: 8\n",
            "    /content/iroha/example/python/permissions/can_grant_can_set_my_quorum.py: 8\n",
            "    /content/iroha/example/python/permissions/can_grant_can_transfer_my_assets.py: 8\n",
            "    /content/iroha/example/python/permissions/can_read_assets.py: 8\n",
            "    /content/iroha/example/python/permissions/can_receive.py: 8\n",
            "    /content/iroha/example/python/permissions/can_remove_my_signatory.py: 8\n",
            "    /content/iroha/example/python/permissions/can_remove_peer.py: 8\n",
            "    /content/iroha/example/python/permissions/can_remove_signatory.py: 8\n",
            "    /content/iroha/example/python/permissions/can_set_detail.py: 8\n",
            "    /content/iroha/example/python/permissions/can_set_my_account_detail.py: 8\n",
            "    /content/iroha/example/python/permissions/can_set_my_quorum.py: 8\n",
            "    /content/iroha/example/python/permissions/can_set_quorum.py: 8\n",
            "    /content/iroha/example/python/permissions/can_subtract_asset_qty.py: 8\n",
            "    /content/iroha/example/python/permissions/can_transfer_my_assets.py: 8\n",
            "  \u001b[33mcan_add_asset_qty\u001b[39m referenced from:\n",
            "    /content/iroha/example/python/permissions/can_add_domain_asset_qty.py: 6\n",
            "  \u001b[33mcan_receive\u001b[39m referenced from:\n",
            "    /content/iroha/example/python/permissions/can_transfer.py: 6\n",
            "  \u001b[33mcan_subtract_asset_qty\u001b[39m referenced from:\n",
            "    /content/iroha/example/python/permissions/can_subtract_domain_asset_qty.py: 6\n",
            "  \u001b[33msphinx_rtd_theme\u001b[39m referenced from:\n",
            "    /content/iroha/docs/source/conf.py: 3\n",
            "  \u001b[33mpygments_lexer_solidity\u001b[39m referenced from:\n",
            "    /content/iroha/docs/source/conf.py: 6\n",
            "  \u001b[33miroha_rst\u001b[39m referenced from:\n",
            "    /content/iroha/docs/source/iroha_rst/permissions_compiler.py: 11,13\n",
            "    /content/iroha/docs/source/sphinx_extensions/iroha_permissions.py: 15\n",
            "  \u001b[33mlocust\u001b[39m referenced from:\n",
            "    /content/iroha/test/load/common/writer.py: 3\n",
            "    /content/iroha/test/load/locustfile-performance.py: 5\n",
            "    /content/iroha/test/load/locustfile.py: 8\n",
            "  \u001b[33mcommon\u001b[39m referenced from:\n",
            "    /content/iroha/test/load/locustfile-performance.py: 14\n",
            "    /content/iroha/test/load/locustfile.py: 10\n",
            "  \u001b[33mgevent\u001b[39m referenced from:\n",
            "    /content/iroha/test/load/locustfile-performance.py: 17\n",
            "  \u001b[33minfluxdb\u001b[39m referenced from:\n",
            "    /content/iroha/test/load/common/writer.py: 2\n",
            "\u001b[31mSome of them may be not installed in the local environment.\n",
            "Try to search them on PyPI for further analysis?\u001b[39m [y/N]: y\n",
            "Please select one or more packages from the below list for the module \u001b[33m\"Crypto\"\u001b[39m (input * to select all, multiple values can be sperated by \",\")\n",
            "\u001b[33m[otlib, pycryptodome]\n",
            "\u001b[39m: *\n",
            "Please select one or more packages from the below list for the module \u001b[33m\"commons\"\u001b[39m (input * to select all, multiple values can be sperated by \",\")\n",
            "\u001b[33m[bravo1996, commmons-QrCeric, commons, commons-app-base, commons_py, corgy-erp, dokr, dokr199, ezy, insight-workshop-commons, instagram-insights, mangata-workflow-commons, mcommons, meiupp-commons, printsid, print-sid, py-commons, python-commons2, qcri-cyber-commons, recordset, terraenv, jnunes-commons, xlsmloader, dataos-sdk-py, o2despy, skelmis-commons, smart-auto-test]\n",
            "\u001b[39m(the best match may be \u001b[33m\"commons\"\u001b[39m): *\n",
            "Please select one or more packages from the below list for the module \u001b[33m\"sphinx_rtd_theme\"\u001b[39m (input * to select all, multiple values can be sperated by \",\")\n",
            "\u001b[33m[ashk-sphinx-theme, sphinx-rtd-theme]\n",
            "\u001b[39m: *\n",
            "Please select one or more packages from the below list for the module \u001b[33m\"locust\"\u001b[39m (input * to select all, multiple values can be sperated by \",\")\n",
            "\u001b[33m[bugout-locust, ddsl-locustio, dm-locust, locallocustio, locust-ig, locustksy, locustio, locust-mboutet, pacs-locustio, plocustio, pslocust, thickly, locust-je-test-pep621, locust]\n",
            "\u001b[39m(the best match may be \u001b[33m\"locust\"\u001b[39m): Aborted!\n",
            "^C\n"
          ]
        }
      ]
    },
    {
      "cell_type": "code",
      "source": [
        "!pip install pigar"
      ],
      "metadata": {
        "colab": {
          "base_uri": "https://localhost:8080/"
        },
        "id": "BUpWmnmF7ooq",
        "outputId": "361e7556-c084-4c76-aee8-f21c803eb8ff"
      },
      "execution_count": null,
      "outputs": [
        {
          "output_type": "stream",
          "name": "stdout",
          "text": [
            "Collecting pigar\n",
            "  Downloading pigar-2.1.3-py3-none-any.whl (29.5 MB)\n",
            "\u001b[2K     \u001b[90m━━━━━━━━━━━━━━━━━━━━━━━━━━━━━━━━━━━━━━━━\u001b[0m \u001b[32m29.5/29.5 MB\u001b[0m \u001b[31m25.2 MB/s\u001b[0m eta \u001b[36m0:00:00\u001b[0m\n",
            "\u001b[?25hRequirement already satisfied: click>=8.1 in /usr/local/lib/python3.10/dist-packages (from pigar) (8.1.7)\n",
            "Requirement already satisfied: nbformat>=5.7 in /usr/local/lib/python3.10/dist-packages (from pigar) (5.9.2)\n",
            "Requirement already satisfied: aiohttp>=3.9 in /usr/local/lib/python3.10/dist-packages (from pigar) (3.9.3)\n",
            "Requirement already satisfied: aiosignal>=1.1.2 in /usr/local/lib/python3.10/dist-packages (from aiohttp>=3.9->pigar) (1.3.1)\n",
            "Requirement already satisfied: attrs>=17.3.0 in /usr/local/lib/python3.10/dist-packages (from aiohttp>=3.9->pigar) (23.2.0)\n",
            "Requirement already satisfied: frozenlist>=1.1.1 in /usr/local/lib/python3.10/dist-packages (from aiohttp>=3.9->pigar) (1.4.1)\n",
            "Requirement already satisfied: multidict<7.0,>=4.5 in /usr/local/lib/python3.10/dist-packages (from aiohttp>=3.9->pigar) (6.0.5)\n",
            "Requirement already satisfied: yarl<2.0,>=1.0 in /usr/local/lib/python3.10/dist-packages (from aiohttp>=3.9->pigar) (1.9.4)\n",
            "Requirement already satisfied: async-timeout<5.0,>=4.0 in /usr/local/lib/python3.10/dist-packages (from aiohttp>=3.9->pigar) (4.0.3)\n",
            "Requirement already satisfied: fastjsonschema in /usr/local/lib/python3.10/dist-packages (from nbformat>=5.7->pigar) (2.19.1)\n",
            "Requirement already satisfied: jsonschema>=2.6 in /usr/local/lib/python3.10/dist-packages (from nbformat>=5.7->pigar) (4.19.2)\n",
            "Requirement already satisfied: jupyter-core in /usr/local/lib/python3.10/dist-packages (from nbformat>=5.7->pigar) (5.7.1)\n",
            "Requirement already satisfied: traitlets>=5.1 in /usr/local/lib/python3.10/dist-packages (from nbformat>=5.7->pigar) (5.7.1)\n",
            "Requirement already satisfied: jsonschema-specifications>=2023.03.6 in /usr/local/lib/python3.10/dist-packages (from jsonschema>=2.6->nbformat>=5.7->pigar) (2023.12.1)\n",
            "Requirement already satisfied: referencing>=0.28.4 in /usr/local/lib/python3.10/dist-packages (from jsonschema>=2.6->nbformat>=5.7->pigar) (0.33.0)\n",
            "Requirement already satisfied: rpds-py>=0.7.1 in /usr/local/lib/python3.10/dist-packages (from jsonschema>=2.6->nbformat>=5.7->pigar) (0.18.0)\n",
            "Requirement already satisfied: idna>=2.0 in /usr/local/lib/python3.10/dist-packages (from yarl<2.0,>=1.0->aiohttp>=3.9->pigar) (3.6)\n",
            "Requirement already satisfied: platformdirs>=2.5 in /usr/local/lib/python3.10/dist-packages (from jupyter-core->nbformat>=5.7->pigar) (4.2.0)\n",
            "Installing collected packages: pigar\n",
            "Successfully installed pigar-2.1.3\n"
          ]
        }
      ]
    }
  ],
  "metadata": {
    "accelerator": "GPU",
    "colab": {
      "gpuType": "T4",
      "provenance": [],
      "collapsed_sections": [
        "g-IIQKm_rvuW"
      ]
    },
    "kernelspec": {
      "display_name": "Python 3",
      "name": "python3"
    },
    "language_info": {
      "name": "python"
    }
  },
  "nbformat": 4,
  "nbformat_minor": 0
}